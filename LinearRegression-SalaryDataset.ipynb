{
 "cells": [
  {
   "cell_type": "code",
   "execution_count": 45,
   "metadata": {},
   "outputs": [],
   "source": [
    "import pandas as pd\n",
    "import numpy as np\n",
    "from matplotlib import pyplot as plt\n",
    "%matplotlib inline"
   ]
  },
  {
   "cell_type": "code",
   "execution_count": 46,
   "metadata": {},
   "outputs": [],
   "source": [
    "#import the file\n",
    "dataset = pd.read_csv('Salary_Data.csv')"
   ]
  },
  {
   "cell_type": "code",
   "execution_count": 58,
   "metadata": {},
   "outputs": [
    {
     "data": {
      "text/html": [
       "<div>\n",
       "<style scoped>\n",
       "    .dataframe tbody tr th:only-of-type {\n",
       "        vertical-align: middle;\n",
       "    }\n",
       "\n",
       "    .dataframe tbody tr th {\n",
       "        vertical-align: top;\n",
       "    }\n",
       "\n",
       "    .dataframe thead th {\n",
       "        text-align: right;\n",
       "    }\n",
       "</style>\n",
       "<table border=\"1\" class=\"dataframe\">\n",
       "  <thead>\n",
       "    <tr style=\"text-align: right;\">\n",
       "      <th></th>\n",
       "      <th>YearsExperience</th>\n",
       "      <th>Salary</th>\n",
       "    </tr>\n",
       "  </thead>\n",
       "  <tbody>\n",
       "    <tr>\n",
       "      <th>0</th>\n",
       "      <td>1.1</td>\n",
       "      <td>39343.0</td>\n",
       "    </tr>\n",
       "    <tr>\n",
       "      <th>1</th>\n",
       "      <td>1.3</td>\n",
       "      <td>46205.0</td>\n",
       "    </tr>\n",
       "    <tr>\n",
       "      <th>2</th>\n",
       "      <td>1.5</td>\n",
       "      <td>37731.0</td>\n",
       "    </tr>\n",
       "    <tr>\n",
       "      <th>3</th>\n",
       "      <td>2.0</td>\n",
       "      <td>43525.0</td>\n",
       "    </tr>\n",
       "    <tr>\n",
       "      <th>4</th>\n",
       "      <td>2.2</td>\n",
       "      <td>39891.0</td>\n",
       "    </tr>\n",
       "  </tbody>\n",
       "</table>\n",
       "</div>"
      ],
      "text/plain": [
       "   YearsExperience   Salary\n",
       "0              1.1  39343.0\n",
       "1              1.3  46205.0\n",
       "2              1.5  37731.0\n",
       "3              2.0  43525.0\n",
       "4              2.2  39891.0"
      ]
     },
     "execution_count": 58,
     "metadata": {},
     "output_type": "execute_result"
    }
   ],
   "source": [
    "#Displaying the dataset\n",
    "dataset.head()"
   ]
  },
  {
   "cell_type": "code",
   "execution_count": 48,
   "metadata": {},
   "outputs": [
    {
     "data": {
      "text/plain": [
       "[<matplotlib.lines.Line2D at 0x7f0a44d016a0>]"
      ]
     },
     "execution_count": 48,
     "metadata": {},
     "output_type": "execute_result"
    },
    {
     "data": {
      "image/png": "[encoded data removed]",
      "text/plain": [
       "<Figure size 432x288 with 1 Axes>"
      ]
     },
     "metadata": {
      "needs_background": "light"
     },
     "output_type": "display_data"
    }
   ],
   "source": [
    "#Plotting the relationship between salary and Experience\n",
    "y = dataset['Salary']\n",
    "x = dataset['YearsExperience']\n",
    "plt.plot(x,y,'--')"
   ]
  },
  {
   "cell_type": "markdown",
   "metadata": {},
   "source": [
    "#We can see that Salary increases with Years of Experience\n",
    "#Salary is dependent of Years of experience"
   ]
  },
  {
   "cell_type": "code",
   "execution_count": 49,
   "metadata": {},
   "outputs": [],
   "source": [
    "#Splitting data into training and testing data set\n",
    "from sklearn.model_selection import train_test_split\n",
    "x_train,x_test,y_train,y_test = train_test_split(x,y,test_size = 0.3, random_state = 40)"
   ]
  },
  {
   "cell_type": "code",
   "execution_count": 56,
   "metadata": {},
   "outputs": [
    {
     "name": "stdout",
     "output_type": "stream",
     "text": [
      "Training dataset:\n",
      "\n",
      "x_train:\n",
      " 21     7.1\n",
      "11     4.0\n",
      "4      2.2\n",
      "8      3.2\n",
      "17     5.3\n",
      "26     9.5\n",
      "22     7.9\n",
      "0      1.1\n",
      "9      3.7\n",
      "10     3.9\n",
      "23     8.2\n",
      "28    10.3\n",
      "12     4.0\n",
      "1      1.3\n",
      "18     5.9\n",
      "25     9.0\n",
      "24     8.7\n",
      "5      2.9\n",
      "7      3.2\n",
      "27     9.6\n",
      "6      3.0\n",
      "Name: YearsExperience, dtype: float64\n",
      "\n",
      "y_train:\n",
      " 21     98273.0\n",
      "11     55794.0\n",
      "4      39891.0\n",
      "8      64445.0\n",
      "17     83088.0\n",
      "26    116969.0\n",
      "22    101302.0\n",
      "0      39343.0\n",
      "9      57189.0\n",
      "10     63218.0\n",
      "23    113812.0\n",
      "28    122391.0\n",
      "12     56957.0\n",
      "1      46205.0\n",
      "18     81363.0\n",
      "25    105582.0\n",
      "24    109431.0\n",
      "5      56642.0\n",
      "7      54445.0\n",
      "27    112635.0\n",
      "6      60150.0\n",
      "Name: Salary, dtype: float64\n",
      "Testing dataset:\n",
      "\n",
      "x_test:\n",
      " 2      1.5\n",
      "16     5.1\n",
      "19     6.0\n",
      "14     4.5\n",
      "15     4.9\n",
      "13     4.1\n",
      "20     6.8\n",
      "3      2.0\n",
      "29    10.5\n",
      "Name: YearsExperience, dtype: float64\n",
      "\n",
      "y_test:\n",
      " 2      37731.0\n",
      "16     66029.0\n",
      "19     93940.0\n",
      "14     61111.0\n",
      "15     67938.0\n",
      "13     57081.0\n",
      "20     91738.0\n",
      "3      43525.0\n",
      "29    121872.0\n",
      "Name: Salary, dtype: float64\n"
     ]
    }
   ],
   "source": [
    "#Printing the training and testing values\n",
    "print(\"Training dataset:\")\n",
    "print(\"\\nx_train:\\n\",x_train)\n",
    "print(\"\\ny_train:\\n\",y_train)\n",
    "print(\"Testing dataset:\")\n",
    "print(\"\\nx_test:\\n\",x_test)\n",
    "print(\"\\ny_test:\\n\",y_test)"
   ]
  },
  {
   "cell_type": "code",
   "execution_count": 51,
   "metadata": {},
   "outputs": [
    {
     "name": "stdout",
     "output_type": "stream",
     "text": [
      "Predictions:\n",
      " [ 41534.28694465  74999.23127173  83365.46735351  69421.74055055\n",
      "  73140.06769801  65703.4134031   90802.12164841  46182.19587897\n",
      " 125196.64776236]\n"
     ]
    }
   ],
   "source": [
    "from sklearn.linear_model import LinearRegression\n",
    "#Training the model\n",
    "reg = LinearRegression().fit(x_train.values.reshape(-1,1),y_train)\n",
    "#Predict the outcome of test sets\n",
    "y_predict = reg.predict(x_test.values.reshape(-1,1))\n",
    "print(\"Predictions:\\n\",y_predict)"
   ]
  },
  {
   "cell_type": "code",
   "execution_count": 52,
   "metadata": {},
   "outputs": [
    {
     "name": "stdout",
     "output_type": "stream",
     "text": [
      "Prediction Accuracy: 0.9308662451595101\n"
     ]
    }
   ],
   "source": [
    "#Calculating the accuracy of the model\n",
    "from sklearn import metrics\n",
    "print(\"Prediction Accuracy:\",metrics.r2_score(y_test,y_predict))\n",
    "#r2 score 0-1, finds the correlation of the variables, higher the number, better the prediction"
   ]
  },
  {
   "cell_type": "code",
   "execution_count": 53,
   "metadata": {},
   "outputs": [
    {
     "data": {
      "text/html": [
       "<div>\n",
       "<style scoped>\n",
       "    .dataframe tbody tr th:only-of-type {\n",
       "        vertical-align: middle;\n",
       "    }\n",
       "\n",
       "    .dataframe tbody tr th {\n",
       "        vertical-align: top;\n",
       "    }\n",
       "\n",
       "    .dataframe thead th {\n",
       "        text-align: right;\n",
       "    }\n",
       "</style>\n",
       "<table border=\"1\" class=\"dataframe\">\n",
       "  <thead>\n",
       "    <tr style=\"text-align: right;\">\n",
       "      <th></th>\n",
       "      <th>actual</th>\n",
       "      <th>predicted</th>\n",
       "      <th>error</th>\n",
       "    </tr>\n",
       "  </thead>\n",
       "  <tbody>\n",
       "    <tr>\n",
       "      <th>2</th>\n",
       "      <td>37731.0</td>\n",
       "      <td>41534.286945</td>\n",
       "      <td>3803.286945</td>\n",
       "    </tr>\n",
       "    <tr>\n",
       "      <th>16</th>\n",
       "      <td>66029.0</td>\n",
       "      <td>74999.231272</td>\n",
       "      <td>8970.231272</td>\n",
       "    </tr>\n",
       "    <tr>\n",
       "      <th>19</th>\n",
       "      <td>93940.0</td>\n",
       "      <td>83365.467354</td>\n",
       "      <td>10574.532646</td>\n",
       "    </tr>\n",
       "    <tr>\n",
       "      <th>14</th>\n",
       "      <td>61111.0</td>\n",
       "      <td>69421.740551</td>\n",
       "      <td>8310.740551</td>\n",
       "    </tr>\n",
       "    <tr>\n",
       "      <th>15</th>\n",
       "      <td>67938.0</td>\n",
       "      <td>73140.067698</td>\n",
       "      <td>5202.067698</td>\n",
       "    </tr>\n",
       "    <tr>\n",
       "      <th>13</th>\n",
       "      <td>57081.0</td>\n",
       "      <td>65703.413403</td>\n",
       "      <td>8622.413403</td>\n",
       "    </tr>\n",
       "    <tr>\n",
       "      <th>20</th>\n",
       "      <td>91738.0</td>\n",
       "      <td>90802.121648</td>\n",
       "      <td>935.878352</td>\n",
       "    </tr>\n",
       "    <tr>\n",
       "      <th>3</th>\n",
       "      <td>43525.0</td>\n",
       "      <td>46182.195879</td>\n",
       "      <td>2657.195879</td>\n",
       "    </tr>\n",
       "    <tr>\n",
       "      <th>29</th>\n",
       "      <td>121872.0</td>\n",
       "      <td>125196.647762</td>\n",
       "      <td>3324.647762</td>\n",
       "    </tr>\n",
       "  </tbody>\n",
       "</table>\n",
       "</div>"
      ],
      "text/plain": [
       "      actual      predicted         error\n",
       "2    37731.0   41534.286945   3803.286945\n",
       "16   66029.0   74999.231272   8970.231272\n",
       "19   93940.0   83365.467354  10574.532646\n",
       "14   61111.0   69421.740551   8310.740551\n",
       "15   67938.0   73140.067698   5202.067698\n",
       "13   57081.0   65703.413403   8622.413403\n",
       "20   91738.0   90802.121648    935.878352\n",
       "3    43525.0   46182.195879   2657.195879\n",
       "29  121872.0  125196.647762   3324.647762"
      ]
     },
     "execution_count": 53,
     "metadata": {},
     "output_type": "execute_result"
    }
   ],
   "source": [
    "#comparing the actual and predicted salaries for the test dataset\n",
    "error_df = pd.DataFrame({\"actual\":y_test,\n",
    "                        \"predicted\": y_predict,\n",
    "                        \"error\": np.abs(y_test-y_predict)})\n",
    "error_df"
   ]
  },
  {
   "cell_type": "code",
   "execution_count": 54,
   "metadata": {},
   "outputs": [
    {
     "data": {
      "image/png": "[encoded data removed]",
      "text/plain": [
       "<Figure size 432x288 with 1 Axes>"
      ]
     },
     "metadata": {
      "needs_background": "light"
     },
     "output_type": "display_data"
    }
   ],
   "source": [
    "#plotting actual vs predicted salaries\n",
    "plt.scatter(x_test,y_test,label=\"Actual\")\n",
    "plt.scatter(x_test,y_predict,marker='^',label=\"Predicted\")\n",
    "plt.xlabel('Years of Experience')\n",
    "plt.ylabel('Salary')\n",
    "plt.legend()\n",
    "plt.grid()\n",
    "plt.show()"
   ]
  },
  {
   "cell_type": "code",
   "execution_count": 55,
   "metadata": {},
   "outputs": [
    {
     "name": "stdout",
     "output_type": "stream",
     "text": [
      "Root Mean Squared Error : 44024061.33808143\n"
     ]
    }
   ],
   "source": [
    "#Calculating Mean Squared Error\n",
    "print(f\"Root Mean Squared Error : {mean_squared_error(y_true=y_test, y_pred=y_predict)}\")"
   ]
  },
  {
   "cell_type": "code",
   "execution_count": null,
   "metadata": {},
   "outputs": [],
   "source": []
  }
 ],
 "metadata": {
  "kernelspec": {
   "display_name": "Python 3",
   "language": "python",
   "name": "python3"
  },
  "language_info": {
   "codemirror_mode": {
    "name": "ipython",
    "version": 3
   },
   "file_extension": ".py",
   "mimetype": "text/x-python",
   "name": "python",
   "nbconvert_exporter": "python",
   "pygments_lexer": "ipython3",
   "version": "3.8.3"
  }
 },
 "nbformat": 4,
 "nbformat_minor": 4
}
